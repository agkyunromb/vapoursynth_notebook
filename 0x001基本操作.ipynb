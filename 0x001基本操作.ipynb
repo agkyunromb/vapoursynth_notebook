{
 "cells": [
  {
   "cell_type": "code",
   "execution_count": 1,
   "id": "twenty-detroit",
   "metadata": {
    "ExecuteTime": {
     "end_time": "2021-01-24T07:06:46.137057Z",
     "start_time": "2021-01-24T07:06:45.667925Z"
    },
    "code_folding": []
   },
   "outputs": [],
   "source": [
    "# Yuuno = vapoursyn + jupyter \n",
    "# https://yuuno.encode.moe/\n",
    "# pip install yuuno\n",
    "# python -m yuuno.console_scripts jupyter install\n",
    "# from vapoursynth import core # vs core 已经被yuuno import\n",
    "import havsfunc as haf\n",
    "import os\n",
    "%load_ext yuuno"
   ]
  },
  {
   "cell_type": "code",
   "execution_count": 2,
   "id": "received-welding",
   "metadata": {
    "ExecuteTime": {
     "end_time": "2021-01-24T07:06:46.636898Z",
     "start_time": "2021-01-24T07:06:46.623905Z"
    },
    "code_folding": [
     0
    ],
    "scrolled": true
   },
   "outputs": [
    {
     "name": "stdout",
     "output_type": "stream",
     "text": [
      "True\n"
     ]
    }
   ],
   "source": [
    "# 测试用视频\n",
    "video_file = \"test.avi\"\n",
    "print(os.path.exists(video_file))"
   ]
  },
  {
   "cell_type": "code",
   "execution_count": 3,
   "id": "technological-anderson",
   "metadata": {
    "ExecuteTime": {
     "end_time": "2021-01-24T07:06:47.305363Z",
     "start_time": "2021-01-24T07:06:47.287382Z"
    },
    "code_folding": [],
    "scrolled": true
   },
   "outputs": [
    {
     "name": "stdout",
     "output_type": "stream",
     "text": [
      "VapourSynth Video Processing Library\n",
      "Copyright (c) 2012-2020 Fredrik Mellbin\n",
      "Core R52\n",
      "API R3.6\n",
      "Options: -\n",
      "\n",
      "4096\n",
      "12\n"
     ]
    }
   ],
   "source": [
    "# class Core\n",
    "# vapoursynth 性能参数\n",
    "# num_thread  默认就是逻辑处理器数 multiprocessing.cpu_count()\n",
    "# max_cache_size 内存用完后的磁盘上的cache大小(mb)\n",
    "# print(core.list_functions()) Returns a dict containing all loaded plugins and their functions human-readable\n",
    "print(core.version())\n",
    "print(core.max_cache_size)\n",
    "print(core.num_threads)"
   ]
  },
  {
   "cell_type": "code",
   "execution_count": 4,
   "id": "played-trail",
   "metadata": {
    "ExecuteTime": {
     "end_time": "2021-01-24T07:06:47.787404Z",
     "start_time": "2021-01-24T07:06:47.769317Z"
    },
    "code_folding": []
   },
   "outputs": [],
   "source": [
    "# 简陋的获取信息的函数\n",
    "def video_info(video):\n",
    "    print(video)\n",
    "    property_set = {\"width\", \"height\", \"fps\", \"num_frames\"}\n",
    "    print(video.format)\n",
    "    for item in property_set & set(dir(video)):\n",
    "        print(item, end=\":\")\n",
    "        print(getattr(video, item))"
   ]
  },
  {
   "cell_type": "markdown",
   "id": "enormous-debate",
   "metadata": {},
   "source": [
    "# vsdb.top Source/Output 分类下的插件\n",
    "读取视频 -> vapoursynth.VideoNode"
   ]
  },
  {
   "cell_type": "code",
   "execution_count": 5,
   "id": "exclusive-saying",
   "metadata": {
    "ExecuteTime": {
     "end_time": "2021-01-24T07:06:52.486504Z",
     "start_time": "2021-01-24T07:06:52.401793Z"
    }
   },
   "outputs": [
    {
     "name": "stdout",
     "output_type": "stream",
     "text": [
      "VideoNode\n",
      "\tFormat: YUV420P8\n",
      "\tWidth: 1920\n",
      "\tHeight: 1080\n",
      "\tNum Frames: 3977\n",
      "\tFPS: 60\n",
      "\tFlags: NoCache IsCache\n",
      "\n",
      "Format Descriptor\n",
      "\tId: 3000010\n",
      "\tName: YUV420P8\n",
      "\tColor Family: YUV\n",
      "\tSample Type: Integer\n",
      "\tBits Per Sample: 8\n",
      "\tBytes Per Sample: 1\n",
      "\tPlanes: 3\n",
      "\tSubsampling W: 1\n",
      "\tSubsampling H: 1\n",
      "\n",
      "height:1080\n",
      "num_frames:3977\n",
      "fps:60\n",
      "width:1920\n"
     ]
    }
   ],
   "source": [
    "\"\"\"\n",
    "1.avisource \n",
    "AVISource(string path[, string pixel_type, string fourcc, bint alpha=False])\n",
    "pixel_type: YV24, YV16, YV12, YV411, YUY2, Y8, RGB32, RGB24, RGB48, P010, P016, P210, P216, v210\n",
    "FOURCC四字符码 本例中为LAGS\n",
    "\"\"\"\n",
    "?core.avisource.AVISource\n",
    "src = core.avisource.AVISource(video_file)\n",
    "video_info(src)\n",
    "#src = core.lsmas.LWLibavSource(video_file,fpsnum=0,fpsden=1,decoder=\"\")"
   ]
  },
  {
   "cell_type": "code",
   "execution_count": 6,
   "id": "selective-exhaust",
   "metadata": {
    "ExecuteTime": {
     "end_time": "2021-01-24T07:06:53.767184Z",
     "start_time": "2021-01-24T07:06:53.614590Z"
    }
   },
   "outputs": [
    {
     "name": "stdout",
     "output_type": "stream",
     "text": [
      "VideoNode\n",
      "\tFormat: YUV420P8\n",
      "\tWidth: 1920\n",
      "\tHeight: 1080\n",
      "\tNum Frames: 3977\n",
      "\tFPS: 60\n",
      "\tFlags: NoCache IsCache\n",
      "\n",
      "Format Descriptor\n",
      "\tId: 3000010\n",
      "\tName: YUV420P8\n",
      "\tColor Family: YUV\n",
      "\tSample Type: Integer\n",
      "\tBits Per Sample: 8\n",
      "\tBytes Per Sample: 1\n",
      "\tPlanes: 3\n",
      "\tSubsampling W: 1\n",
      "\tSubsampling H: 1\n",
      "\n",
      "height:1080\n",
      "num_frames:3977\n",
      "fps:60\n",
      "width:1920\n"
     ]
    }
   ],
   "source": [
    "\"\"\"\n",
    "2.lsmas\n",
    "LibavSMASHSource只用于mp4/mov\n",
    "其他container用LibavSMASHSource\n",
    "fps=fpsnum/fpsden 比如 29.97=30000/1001 0/1则尝试可变fps\n",
    "decoder\n",
    "\"\"\"\n",
    "?core.lsmas.LWLibavSource\n",
    "# src=core.lsmas.LibavSMASHSource(video_file,fpsnum=0,fpsden=1,decoder=\"\")\n",
    "src = core.lsmas.LWLibavSource(video_file, fpsnum=0, fpsden=1, decoder=\"\")\n",
    "video_info(src)"
   ]
  },
  {
   "cell_type": "code",
   "execution_count": 7,
   "id": "exempt-aircraft",
   "metadata": {
    "ExecuteTime": {
     "end_time": "2021-01-24T07:06:54.279649Z",
     "start_time": "2021-01-24T07:06:54.125554Z"
    }
   },
   "outputs": [
    {
     "name": "stdout",
     "output_type": "stream",
     "text": [
      "b'2.23.0.0'\n",
      "Object `core.ffms2.Source()` not found.\n",
      "VideoNode\n",
      "\tFormat: YUV420P8\n",
      "\tWidth: 1920\n",
      "\tHeight: 1080\n",
      "\tNum Frames: 3977\n",
      "\tFPS: 60\n",
      "\tFlags: NoCache IsCache\n",
      "\n",
      "Format Descriptor\n",
      "\tId: 3000010\n",
      "\tName: YUV420P8\n",
      "\tColor Family: YUV\n",
      "\tSample Type: Integer\n",
      "\tBits Per Sample: 8\n",
      "\tBytes Per Sample: 1\n",
      "\tPlanes: 3\n",
      "\tSubsampling W: 1\n",
      "\tSubsampling H: 1\n",
      "\n",
      "height:1080\n",
      "num_frames:3977\n",
      "fps:60\n",
      "width:1920\n",
      "None\n"
     ]
    }
   ],
   "source": [
    "print(core.ffms2.Version())\n",
    "?core.ffms2.Source()\n",
    "src = core.ffms2.Source(video_file, fpsnum=0, fpsden=1)\n",
    "print(video_info(src))"
   ]
  },
  {
   "cell_type": "markdown",
   "id": "unsigned-vertex",
   "metadata": {},
   "source": [
    "# 视频的预览与输出\n",
    "\n",
    "%%vspreview 预览   \n",
    "%%vspipe 直接输出  \n",
    "--reset-core --isolate-variables 视频的导入 处理必须在下面的代码里完成  "
   ]
  },
  {
   "cell_type": "code",
   "execution_count": 8,
   "id": "altered-content",
   "metadata": {
    "ExecuteTime": {
     "end_time": "2021-01-24T07:07:11.451979Z",
     "start_time": "2021-01-24T07:07:11.441134Z"
    },
    "code_folding": [],
    "scrolled": false
   },
   "outputs": [
    {
     "data": {
      "application/vnd.jupyter.widget-view+json": {
       "model_id": "8cf05ea4010a4a68b0cd6086864f47bf",
       "version_major": 2,
       "version_minor": 0
      },
      "text/plain": [
       "Preview(clip=<vapoursynth.VideoNode object at 0x000001BD3E74B820>)"
      ]
     },
     "metadata": {},
     "output_type": "display_data"
    }
   ],
   "source": [
    "%%vspreview\n",
    "src[:30].set_output()"
   ]
  },
  {
   "cell_type": "code",
   "execution_count": 39,
   "id": "arctic-serbia",
   "metadata": {
    "ExecuteTime": {
     "end_time": "2021-01-24T09:02:30.729040Z",
     "start_time": "2021-01-24T09:02:30.579471Z"
    },
    "code_folding": [],
    "scrolled": true
   },
   "outputs": [
    {
     "data": {
      "application/vnd.jupyter.widget-view+json": {
       "model_id": "0ac78129b941454381ff45b9d3892338",
       "version_major": 2,
       "version_minor": 0
      },
      "text/plain": [
       "EncodeWidget(length=3977, start_time=1611478950)"
      ]
     },
     "metadata": {},
     "output_type": "display_data"
    }
   ],
   "source": [
    "%%vspipe --y4m | ffmpeg -i pipe: -c:v hevc_nvenc -preset slow -y test.265\n",
    "src = core.lsmas.LWLibavSource(video_file, fpsnum=0, fpsden=1, decoder=\"\")\n",
    "#src = haf.ChangeFPS(src, fpsnum=30000, fpsden=1001) #降低fps\n",
    "src = core.resize.Bilinear(src,1280,720)\n",
    "src.set_output()"
   ]
  },
  {
   "cell_type": "code",
   "execution_count": 40,
   "id": "demographic-grade",
   "metadata": {
    "ExecuteTime": {
     "end_time": "2021-01-24T09:02:53.127503Z",
     "start_time": "2021-01-24T09:02:52.133342Z"
    }
   },
   "outputs": [
    {
     "data": {
      "text/plain": [
       "0"
      ]
     },
     "execution_count": 40,
     "metadata": {},
     "output_type": "execute_result"
    }
   ],
   "source": [
    "# ffmpeg分离转码音频\n",
    "os.system(\"ffmpeg -i test.avi -vn -f flac test.flac\")"
   ]
  },
  {
   "cell_type": "markdown",
   "id": "received-bunny",
   "metadata": {
    "ExecuteTime": {
     "end_time": "2021-01-24T07:50:32.200034Z",
     "start_time": "2021-01-24T07:50:32.102298Z"
    }
   },
   "source": [
    "# 用mkvtoolnix-gui 合并视频与音频"
   ]
  },
  {
   "cell_type": "code",
   "execution_count": null,
   "id": "military-tonight",
   "metadata": {
    "ExecuteTime": {
     "end_time": "2021-01-24T04:42:46.032505Z",
     "start_time": "2021-01-24T04:42:46.021534Z"
    }
   },
   "outputs": [],
   "source": [
    "# 也许以后搞点命令行"
   ]
  },
  {
   "cell_type": "code",
   "execution_count": null,
   "id": "falling-satellite",
   "metadata": {
    "ExecuteTime": {
     "end_time": "2021-01-24T04:51:56.650997Z",
     "start_time": "2021-01-24T04:51:56.646010Z"
    }
   },
   "outputs": [],
   "source": []
  },
  {
   "cell_type": "code",
   "execution_count": null,
   "id": "fallen-practice",
   "metadata": {
    "ExecuteTime": {
     "end_time": "2021-01-24T04:52:15.768742Z",
     "start_time": "2021-01-24T04:52:15.761734Z"
    }
   },
   "outputs": [],
   "source": []
  },
  {
   "cell_type": "code",
   "execution_count": null,
   "id": "raising-mercury",
   "metadata": {},
   "outputs": [],
   "source": []
  }
 ],
 "metadata": {
  "kernelspec": {
   "display_name": "Python 3",
   "language": "python",
   "name": "python3"
  },
  "language_info": {
   "codemirror_mode": {
    "name": "ipython",
    "version": 3
   },
   "file_extension": ".py",
   "mimetype": "text/x-python",
   "name": "python",
   "nbconvert_exporter": "python",
   "pygments_lexer": "ipython3",
   "version": "3.8.5"
  },
  "varInspector": {
   "cols": {
    "lenName": 16,
    "lenType": 16,
    "lenVar": 40
   },
   "kernels_config": {
    "python": {
     "delete_cmd_postfix": "",
     "delete_cmd_prefix": "del ",
     "library": "var_list.py",
     "varRefreshCmd": "print(var_dic_list())"
    },
    "r": {
     "delete_cmd_postfix": ") ",
     "delete_cmd_prefix": "rm(",
     "library": "var_list.r",
     "varRefreshCmd": "cat(var_dic_list()) "
    }
   },
   "types_to_exclude": [
    "module",
    "function",
    "builtin_function_or_method",
    "instance",
    "_Feature"
   ],
   "window_display": false
  }
 },
 "nbformat": 4,
 "nbformat_minor": 5
}
