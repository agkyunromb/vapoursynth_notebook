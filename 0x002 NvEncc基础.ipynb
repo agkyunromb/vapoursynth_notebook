{
 "cells": [
  {
   "cell_type": "code",
   "execution_count": 4,
   "id": "european-precipitation",
   "metadata": {
    "ExecuteTime": {
     "end_time": "2021-01-25T13:16:58.077323Z",
     "start_time": "2021-01-25T13:16:58.063359Z"
    }
   },
   "outputs": [
    {
     "name": "stdout",
     "output_type": "stream",
     "text": [
      "The yuuno extension is already loaded. To reload it, use:\n",
      "  %reload_ext yuuno\n"
     ]
    }
   ],
   "source": [
    "%load_ext yuuno\n",
    "import havsfunc as haf\n",
    "import os"
   ]
  },
  {
   "cell_type": "code",
   "execution_count": 2,
   "id": "timely-finder",
   "metadata": {
    "ExecuteTime": {
     "end_time": "2021-01-25T12:50:44.515579Z",
     "start_time": "2021-01-25T12:50:44.367938Z"
    }
   },
   "outputs": [
    {
     "name": "stdout",
     "output_type": "stream",
     "text": [
      "VideoNode\n",
      "\tFormat: YUV420P8\n",
      "\tWidth: 1920\n",
      "\tHeight: 1080\n",
      "\tNum Frames: 3977\n",
      "\tFPS: 60\n",
      "\tFlags: NoCache IsCache\n",
      "\n",
      "VideoNode\n",
      "\tFormat: YUV420P10\n",
      "\tWidth: 1920\n",
      "\tHeight: 1080\n",
      "\tNum Frames: 3977\n",
      "\tFPS: 60\n",
      "\tFlags: NoCache IsCache\n",
      "\n"
     ]
    }
   ],
   "source": [
    "video_file= \"test.avi\"\n",
    "src = core.lsmas.LWLibavSource(video_file)\n",
    "src_10bit = core.fmtc.bitdepth(src, bits=10,fulls=False,fulld=False) # 提升到10bit\n",
    "print(src)\n",
    "print(src_10bit)"
   ]
  },
  {
   "cell_type": "code",
   "execution_count": 13,
   "id": "billion-street",
   "metadata": {
    "ExecuteTime": {
     "end_time": "2021-01-25T12:33:22.195336Z",
     "start_time": "2021-01-25T12:33:22.176386Z"
    }
   },
   "outputs": [
    {
     "data": {
      "application/vnd.jupyter.widget-view+json": {
       "model_id": "732e7b0afcf4452b8b6e161203ae1f88",
       "version_major": 2,
       "version_minor": 0
      },
      "text/plain": [
       "Preview(clip=<vapoursynth.VideoNode object at 0x00000198D968BF70>)"
      ]
     },
     "metadata": {},
     "output_type": "display_data"
    }
   ],
   "source": [
    "%%vspreview\n",
    "src_10bit[:100].set_output() #预览"
   ]
  },
  {
   "cell_type": "markdown",
   "id": "chemical-porter",
   "metadata": {},
   "source": [
    "## %%vspipe 的基本用法\n",
    "    %%vspipe [--outputindex <OUTPUT-ID>] [OPTIONS] | [<COMMAND>...]\n",
    "    Options:\n",
    "    --outputindex <OUTPUT-ID> - Which output-index should be encoded.\n",
    "    --y4m - Add YUV4MPEG headers to output\n",
    "    --start N - Set the output frame range (first frame)\n",
    "    --end N - Set the output frame range (last frame)\n",
    "    --requests N - Set the number of concurrent frame requests.\n",
    "    --reset-core - Create a new vs.Core-object before executing the script.\n",
    "    --isolate-core - Create a new vs.Core-object that is only running during the encode. Do not use with --reset-core\n",
    "    --isolate-variables - Make sure that changes to variables do not affect the entire console."
   ]
  },
  {
   "cell_type": "code",
   "execution_count": 14,
   "id": "measured-level",
   "metadata": {
    "ExecuteTime": {
     "end_time": "2021-01-25T12:33:28.203804Z",
     "start_time": "2021-01-25T12:33:28.179867Z"
    },
    "code_folding": [],
    "scrolled": true
   },
   "outputs": [
    {
     "data": {
      "application/vnd.jupyter.widget-view+json": {
       "model_id": "aa6e15c4aae141bbb947cdbb24b04916",
       "version_major": 2,
       "version_minor": 0
      },
      "text/plain": [
       "EncodeWidget(length=3977, start_time=1611578008)"
      ]
     },
     "metadata": {},
     "output_type": "display_data"
    }
   ],
   "source": [
    "%%vspipe --y4m | NVEncC64 -i - --vpy-mt --y4m -o defalut.mp4\n",
    "src.set_output() #默认输出\n",
    "#-i <input> 输入为pipe时 -\n",
    "#--vpy-mt vapoursynth输入标记\n",
    "#-o <output> 输出\n",
    "\"\"\"\n",
    "- <input> 输入为pipe时 -\n",
    "--vpy-mt vapoursynth输入标记\n",
    "-o <output> 输出\n",
    "--y4m 将输入格式指定为 y4m (YUV4MPEG2)\n",
    "\"\"\""
   ]
  },
  {
   "cell_type": "markdown",
   "id": "biblical-assessment",
   "metadata": {},
   "source": [
    "例1: 3000-3999 帧使用vbrhq模式12000kbps编码、  \n",
    "     5000-5999 帧使用固定质量29.0编码、  \n",
    "     其他部分使用固定质量25.0编码。  \n",
    "  --vbrhq 0 --vbr-quality=25.0 --dynamic-rc 3000:3999,vbrhq=12000 --dynamic-rc 5000:5999,vbrhq=0,vbr-quality=29.0  \n",
    "例2: 3000 帧之前使用vbrhq模式6000kbps编码、  \n",
    "     3000 帧之后使用vbrhq模式12000kbps编码。  \n",
    "  --vbrhq 6000 --dynamic-rc start=3000,vbrhq=12000  "
   ]
  },
  {
   "cell_type": "code",
   "execution_count": 7,
   "id": "commercial-message",
   "metadata": {
    "ExecuteTime": {
     "end_time": "2021-01-25T13:31:48.271969Z",
     "start_time": "2021-01-25T13:31:48.247037Z"
    }
   },
   "outputs": [
    {
     "data": {
      "application/vnd.jupyter.widget-view+json": {
       "model_id": "833c1d62c4874b3a9db40f407ec124fd",
       "version_major": 2,
       "version_minor": 0
      },
      "text/plain": [
       "EncodeWidget(length=3977, start_time=1611581508)"
      ]
     },
     "metadata": {},
     "output_type": "display_data"
    }
   ],
   "source": [
    "%%vspipe --y4m | NVEncC64 -i - --avhw --vpy-mt --y4m -c hevc --preset quality --vbrhq 0 --vbr-quality 29 --ref 16 --aq --aq-strength 7 --mv-precision Q-pel --lookahead 32 -o 8bit.mp4\n",
    "src.set_output() #8bit\n",
    "\"\"\"\n",
    "--avhw 使用 avformat 和 cuvid 的硬件解码器。使用该模式可以提供最佳性能，因为该模式下整个编解码过程均在 GPU 运行\n",
    "--preset quality  : performance, default, quality, P1, P2, P3, P4, P5, P6, P7\n",
    "--vbrhq 0 --vbr-quality 29 2pass vbr 固定质量29\n",
    "--aq 在帧内启用自适应量化（Adaptive Quantization）\n",
    "--aq-temporal 在帧间启用自适应量化（Adaptive Quantization） H265不支持\n",
    "--aq-strength 指定自适应量化强度（Adaptive Quantization Strength）。(1 (弱) - 15 (强), 0 = 自动)\n",
    "--mv-precision \n",
    "auto ... 自动\n",
    "Q-pel ... 1/4 像素精度 (高精确度)\n",
    "half-pel ... 1/2 像素精度\n",
    "full-pel ... 1 像素精度 (低精确度)\n",
    "\n",
    "\"\"\""
   ]
  },
  {
   "cell_type": "code",
   "execution_count": 6,
   "id": "extensive-library",
   "metadata": {
    "ExecuteTime": {
     "end_time": "2021-01-25T13:21:30.630832Z",
     "start_time": "2021-01-25T13:21:30.607893Z"
    }
   },
   "outputs": [
    {
     "data": {
      "application/vnd.jupyter.widget-view+json": {
       "model_id": "b67eb3a3683846b098eca5980f827a1b",
       "version_major": 2,
       "version_minor": 0
      },
      "text/plain": [
       "EncodeWidget(length=3977, start_time=1611580890)"
      ]
     },
     "metadata": {},
     "output_type": "display_data"
    }
   ],
   "source": [
    "%%vspipe --y4m | NVEncC64 -i - --avhw --vpy-mt --y4m -c hevc --preset quality --vbrhq 0 --vbr-quality 40 --ref 16 --aq --aq-strength 7 --mv-precision Q-pel --lookahead 32 --output-depth 10 -o 10bit.mp4\n",
    "src_10bit.set_output() # 10bit\n",
    "\"\"\"\n",
    "File \"I:\\conda\\lib\\site-packages\\yuuno_ipython\\ipy_vs\\outputter.py\", line 175, in encode\n",
    "y4mformat = y4mformat + 'p' + str(self.format.bits_per_sample)\n",
    "NameError: name 'self' is not defined\n",
    "改成 y4mformat = y4mformat + 'p' + str(clip.format.bits_per_sample) 后\n",
    "%reload_ext yuuno\n",
    "\"\"\""
   ]
  }
 ],
 "metadata": {
  "kernelspec": {
   "display_name": "Python 3",
   "language": "python",
   "name": "python3"
  },
  "language_info": {
   "codemirror_mode": {
    "name": "ipython",
    "version": 3
   },
   "file_extension": ".py",
   "mimetype": "text/x-python",
   "name": "python",
   "nbconvert_exporter": "python",
   "pygments_lexer": "ipython3",
   "version": "3.8.5"
  },
  "varInspector": {
   "cols": {
    "lenName": 16,
    "lenType": 16,
    "lenVar": 40
   },
   "kernels_config": {
    "python": {
     "delete_cmd_postfix": "",
     "delete_cmd_prefix": "del ",
     "library": "var_list.py",
     "varRefreshCmd": "print(var_dic_list())"
    },
    "r": {
     "delete_cmd_postfix": ") ",
     "delete_cmd_prefix": "rm(",
     "library": "var_list.r",
     "varRefreshCmd": "cat(var_dic_list()) "
    }
   },
   "types_to_exclude": [
    "module",
    "function",
    "builtin_function_or_method",
    "instance",
    "_Feature"
   ],
   "window_display": false
  }
 },
 "nbformat": 4,
 "nbformat_minor": 5
}
